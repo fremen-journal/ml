{
 "cells": [
  {
   "cell_type": "code",
   "execution_count": 6,
   "id": "d1b0378b-2d4b-4564-8113-a70bdf2ae828",
   "metadata": {},
   "outputs": [],
   "source": [
    "import os\n",
    "from dotenv import load_dotenv\n",
    "from IPython.display import Markdown, display\n",
    "from openai import OpenAI\n",
    "from langchain.document_loaders import TextLoader\n",
    "from langchain.text_splitter import CharacterTextSplitter\n",
    "from langchain_openai import OpenAIEmbeddings, ChatOpenAI\n",
    "from langchain_chroma import Chroma\n",
    "\n",
    "MODEL = \"gpt-4o-mini\"\n",
    "DB_NAME = \"vector_db\"\n",
    "\n",
    "# Load and chunk a document\n",
    "loader = TextLoader('books/moby_dick.txt', encoding='utf-8')\n",
    "documents = loader.load()\n",
    "text_splitter = CharacterTextSplitter(chunk_size=1700, chunk_overlap=300)\n",
    "chunks = text_splitter.split_documents(documents)\n",
    "\n",
    "# Use OpenAI Auto-Encoding LLM 'text-embedding-ada-002' for embedding\n",
    "load_dotenv('../.env')\n",
    "embeddings = OpenAIEmbeddings()"
   ]
  },
  {
   "cell_type": "code",
   "execution_count": 7,
   "id": "8331317a-766e-4942-a48f-d80869800a02",
   "metadata": {},
   "outputs": [
    {
     "name": "stdout",
     "output_type": "stream",
     "text": [
      "Vectorstore created with 939 documents\n"
     ]
    }
   ],
   "source": [
    "# Chroma is a popular open source Vector Database based on SQLLite\n",
    "if os.path.exists(DB_NAME):\n",
    "    Chroma(persist_directory=DB_NAME, embedding_function=embeddings).delete_collection()\n",
    "\n",
    "# Create a Chroma vector store\n",
    "vectorstore = Chroma.from_documents(documents=chunks, embedding=embeddings, persist_directory=DB_NAME)\n",
    "print(f\"Vectorstore created with {vectorstore._collection.count()} documents\")"
   ]
  },
  {
   "cell_type": "code",
   "execution_count": null,
   "id": "2471e331-ed7f-4205-b779-4940996991df",
   "metadata": {},
   "outputs": [],
   "source": []
  }
 ],
 "metadata": {
  "kernelspec": {
   "display_name": "Python 3 (ipykernel)",
   "language": "python",
   "name": "python3"
  },
  "language_info": {
   "codemirror_mode": {
    "name": "ipython",
    "version": 3
   },
   "file_extension": ".py",
   "mimetype": "text/x-python",
   "name": "python",
   "nbconvert_exporter": "python",
   "pygments_lexer": "ipython3",
   "version": "3.13.2"
  }
 },
 "nbformat": 4,
 "nbformat_minor": 5
}
