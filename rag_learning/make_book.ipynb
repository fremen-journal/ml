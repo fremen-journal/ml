{
 "cells": [
  {
   "cell_type": "code",
   "execution_count": 1,
   "id": "1f78c438-4860-4d6e-837b-7501d363c7f6",
   "metadata": {},
   "outputs": [],
   "source": [
    "import os\n",
    "import requests\n",
    "from bs4 import BeautifulSoup\n",
    "\n",
    "class Website:\n",
    "    def __init__(self, url):\n",
    "        self.url = url\n",
    "        response = requests.get(url, headers={\"User-Agent\": \"Mozilla/5.0 (Windows NT 10.0; Win64; x64) AppleWebKit/537.36 (KHTML, like Gecko) Chrome/117.0.0.0 Safari/537.36\"})\n",
    "        soup = BeautifulSoup(response.content, 'html.parser')\n",
    "        self.title = soup.title.string if soup.title else \"No title found\"\n",
    "        for irrelevant in soup.body([\"script\", \"style\", \"img\", \"input\"]):\n",
    "            irrelevant.decompose()\n",
    "        self.text = soup.body.get_text(separator=\"\\n\", strip=True)"
   ]
  },
  {
   "cell_type": "code",
   "execution_count": 2,
   "id": "80da6003-aadd-42d3-883b-d9a0300b7933",
   "metadata": {},
   "outputs": [],
   "source": [
    "# Moby-Dick from Gutenberg.org\n",
    "book = Website(\"https://www.gutenberg.org/files/2701/2701-h/2701-h.htm\")\n",
    "with open('books/moby_dick.txt', 'w', encoding='utf-8') as file:\n",
    "    file.write(book.text)"
   ]
  },
  {
   "cell_type": "code",
   "execution_count": null,
   "id": "7ddf29b5-28b5-4e02-a0d9-9e10ceba119e",
   "metadata": {},
   "outputs": [],
   "source": []
  }
 ],
 "metadata": {
  "kernelspec": {
   "display_name": "Python 3 (ipykernel)",
   "language": "python",
   "name": "python3"
  },
  "language_info": {
   "codemirror_mode": {
    "name": "ipython",
    "version": 3
   },
   "file_extension": ".py",
   "mimetype": "text/x-python",
   "name": "python",
   "nbconvert_exporter": "python",
   "pygments_lexer": "ipython3",
   "version": "3.13.2"
  }
 },
 "nbformat": 4,
 "nbformat_minor": 5
}
